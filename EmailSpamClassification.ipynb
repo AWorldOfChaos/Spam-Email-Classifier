{
  "cells": [
    {
      "cell_type": "markdown",
      "metadata": {
        "id": "gE8260cHeCpz"
      },
      "source": [
        "# **Spam Classification**\n",
        "We have many e-mail service providers which provide an in-built spam filter to protect you from malicious e-mails. We are going to try and make our very own spam filters.\n",
        "\n",
        "We are going to train a Machine Learning Model which takes an e-mail (or rather the feature vector of an e-mail $x \\in \\mathbb{R}^n$ where $n$ is the dimension of the feature vector of the e-mail) and outputs $y \\in \\{0,1\\}$ where $0$ denotes **not-spam** (also called ham) and $1$ denotes **spam**."
      ]
    },
    {
      "cell_type": "markdown",
      "metadata": {
        "id": "KT0tpLdBP8ae"
      },
      "source": [
        "# **1. Loading Data**\n",
        "We are going to use the open source dataset provided by the <a href=\"https://spamassassin.apache.org/old/publiccorpus/\">SpamAssassin Public Corpus</a> which is one of the most famous datasets available. It classifies e-mails as '**Spam**' or '**Ham**' (Non-Spam)"
      ]
    },
    {
      "cell_type": "code",
      "execution_count": 1,
      "metadata": {
        "id": "rjhVKARSO8A3"
      },
      "outputs": [],
      "source": [
        "HAM_URL = \"https://spamassassin.apache.org/old/publiccorpus/20030228_easy_ham.tar.bz2\"\n",
        "HAM_URL_2 = \"https://spamassassin.apache.org/old/publiccorpus/20030228_easy_ham_2.tar.bz2\"\n",
        "HARD_HAM_URL = \"https://spamassassin.apache.org/old/publiccorpus/20030228_hard_ham.tar.bz2\"\n",
        "SPAM_URL = \"https://spamassassin.apache.org/old/publiccorpus/20030228_spam.tar.bz2\"\n",
        "SPAM_URL_2 = \"https://spamassassin.apache.org/old/publiccorpus/20030228_spam_2.tar.bz2\"\n",
        "url_list = [HAM_URL, HAM_URL_2, HARD_HAM_URL, SPAM_URL, SPAM_URL_2]\n",
        "DATASET_DIR = \"dataset\""
      ]
    },
    {
      "cell_type": "markdown",
      "metadata": {
        "id": "fBp2k52tXnW6"
      },
      "source": [
        "## 1.1. Downloading Compressed E-Mail Files"
      ]
    },
    {
      "cell_type": "code",
      "execution_count": 2,
      "metadata": {
        "colab": {
          "base_uri": "https://localhost:8080/"
        },
        "id": "5oltBK3VL8Wp",
        "outputId": "e87016d5-c3e6-4f4c-92bd-62378c97a5f6"
      },
      "outputs": [
        {
          "output_type": "stream",
          "name": "stdout",
          "text": [
            "--2022-12-18 04:52:30--  https://spamassassin.apache.org/old/publiccorpus/20030228_easy_ham.tar.bz2\n",
            "Resolving spamassassin.apache.org (spamassassin.apache.org)... 151.101.2.132, 2a04:4e42::644\n",
            "Connecting to spamassassin.apache.org (spamassassin.apache.org)|151.101.2.132|:443... connected.\n",
            "HTTP request sent, awaiting response... 200 OK\n",
            "Length: 1612216 (1.5M) [application/x-bzip2]\n",
            "Saving to: ‘20030228_easy_ham.tar.bz2.1’\n",
            "\n",
            "\r          20030228_   0%[                    ]       0  --.-KB/s               \r20030228_easy_ham.t 100%[===================>]   1.54M  --.-KB/s    in 0.06s   \n",
            "\n",
            "2022-12-18 04:52:30 (27.0 MB/s) - ‘20030228_easy_ham.tar.bz2.1’ saved [1612216/1612216]\n",
            "\n",
            "--2022-12-18 04:52:30--  https://spamassassin.apache.org/old/publiccorpus/20030228_easy_ham_2.tar.bz2\n",
            "Resolving spamassassin.apache.org (spamassassin.apache.org)... 151.101.2.132, 2a04:4e42::644\n",
            "Connecting to spamassassin.apache.org (spamassassin.apache.org)|151.101.2.132|:443... connected.\n",
            "HTTP request sent, awaiting response... 200 OK\n",
            "Length: 1077892 (1.0M) [application/x-bzip2]\n",
            "Saving to: ‘20030228_easy_ham_2.tar.bz2.1’\n",
            "\n",
            "20030228_easy_ham_2 100%[===================>]   1.03M  --.-KB/s    in 0.05s   \n",
            "\n",
            "2022-12-18 04:52:30 (21.3 MB/s) - ‘20030228_easy_ham_2.tar.bz2.1’ saved [1077892/1077892]\n",
            "\n",
            "--2022-12-18 04:52:30--  https://spamassassin.apache.org/old/publiccorpus/20030228_hard_ham.tar.bz2\n",
            "Resolving spamassassin.apache.org (spamassassin.apache.org)... 151.101.2.132, 2a04:4e42::644\n",
            "Connecting to spamassassin.apache.org (spamassassin.apache.org)|151.101.2.132|:443... connected.\n",
            "HTTP request sent, awaiting response... 200 OK\n",
            "Length: 1029898 (1006K) [application/x-bzip2]\n",
            "Saving to: ‘20030228_hard_ham.tar.bz2.1’\n",
            "\n",
            "20030228_hard_ham.t 100%[===================>]   1006K  --.-KB/s    in 0.05s   \n",
            "\n",
            "2022-12-18 04:52:30 (20.6 MB/s) - ‘20030228_hard_ham.tar.bz2.1’ saved [1029898/1029898]\n",
            "\n",
            "--2022-12-18 04:52:31--  https://spamassassin.apache.org/old/publiccorpus/20030228_spam.tar.bz2\n",
            "Resolving spamassassin.apache.org (spamassassin.apache.org)... 151.101.2.132, 2a04:4e42::644\n",
            "Connecting to spamassassin.apache.org (spamassassin.apache.org)|151.101.2.132|:443... connected.\n",
            "HTTP request sent, awaiting response... 200 OK\n",
            "Length: 1183768 (1.1M) [application/x-bzip2]\n",
            "Saving to: ‘20030228_spam.tar.bz2.1’\n",
            "\n",
            "20030228_spam.tar.b 100%[===================>]   1.13M  --.-KB/s    in 0.06s   \n",
            "\n",
            "2022-12-18 04:52:31 (19.7 MB/s) - ‘20030228_spam.tar.bz2.1’ saved [1183768/1183768]\n",
            "\n",
            "--2022-12-18 04:52:31--  https://spamassassin.apache.org/old/publiccorpus/20030228_spam_2.tar.bz2\n",
            "Resolving spamassassin.apache.org (spamassassin.apache.org)... 151.101.2.132, 2a04:4e42::644\n",
            "Connecting to spamassassin.apache.org (spamassassin.apache.org)|151.101.2.132|:443... connected.\n",
            "HTTP request sent, awaiting response... 200 OK\n",
            "Length: 2059563 (2.0M) [application/x-bzip2]\n",
            "Saving to: ‘20030228_spam_2.tar.bz2.1’\n",
            "\n",
            "20030228_spam_2.tar 100%[===================>]   1.96M  --.-KB/s    in 0.06s   \n",
            "\n",
            "2022-12-18 04:52:31 (33.4 MB/s) - ‘20030228_spam_2.tar.bz2.1’ saved [2059563/2059563]\n",
            "\n"
          ]
        }
      ],
      "source": [
        "# Command Line way to get the e-mail '.tar' files. \n",
        "# Now once we download the .tar files, we just need to unzip them.\n",
        "\n",
        "for x in url_list:\n",
        "    !wget {x}"
      ]
    },
    {
      "cell_type": "code",
      "execution_count": 3,
      "metadata": {
        "colab": {
          "base_uri": "https://localhost:8080/"
        },
        "id": "qi0s0eqeV5m4",
        "outputId": "588a696f-622f-498d-be04-8a993b233f19"
      },
      "outputs": [
        {
          "output_type": "stream",
          "name": "stdout",
          "text": [
            "/content\n"
          ]
        }
      ],
      "source": [
        "import os\n",
        "import tarfile\n",
        "\n",
        "# Printing the Current Working Directory (CWD)\n",
        "print(os.getcwd())"
      ]
    },
    {
      "cell_type": "markdown",
      "metadata": {
        "id": "TFXNGoEQXs_p"
      },
      "source": [
        "## 1.2. Extracting the E-Mails from Compressed Files"
      ]
    },
    {
      "cell_type": "code",
      "execution_count": 4,
      "metadata": {
        "colab": {
          "base_uri": "https://localhost:8080/"
        },
        "id": "YDHF3fZqMzDu",
        "outputId": "7dd5e138-0b64-4cb8-9347-057b4eba86e2"
      },
      "outputs": [
        {
          "output_type": "stream",
          "name": "stdout",
          "text": [
            "['20030228_easy_ham.tar.bz2', '20030228_easy_ham_2.tar.bz2', '20030228_hard_ham.tar.bz2', '20030228_spam.tar.bz2', '20030228_spam_2.tar.bz2']\n"
          ]
        }
      ],
      "source": [
        "# Unzipping all the '.tar' e-mail files\n",
        "\n",
        "def unzip_tar_files(tar_files):\n",
        "    # Function stores extracted emails to './content/dataset'\n",
        "\n",
        "    cwd = os.getcwd()\n",
        "    new_dir = cwd + \"/\" + DATASET_DIR + \"/\"\n",
        "    if not os.path.exists(new_dir):\n",
        "      os.mkdir(new_dir)\n",
        "\n",
        "    # Extracting .tar files for each easy_ham, easy_ham_2 etc.\n",
        "    for tar_file in tar_files:\n",
        "        with tarfile.open(tar_file, 'r:bz2') as f:\n",
        "            f.extractall(path=new_dir)\n",
        "\n",
        "tar_data_files = [url.split('/')[-1] for url in url_list]\n",
        "print(tar_data_files)\n",
        "unzip_tar_files(tar_data_files)"
      ]
    },
    {
      "cell_type": "markdown",
      "metadata": {
        "id": "1xJBD5zsg0ma"
      },
      "source": [
        "## 1.3. Command Line Interface\n",
        "\n",
        "Instead of writing such a difficult to read code above, we could simply 'untar' our files using **Colab's Command Line Interface (CLI)**\n",
        " \n",
        "Using $!$ in front of a command in a Colab/Jupyter Cell runs the command as a Command Line command.\n",
        "\n",
        "```\n",
        "!tar xvjf 20030228_easy_ham.tar.bz2\n",
        "!tar xvjf 20030228_easy_ham_2.tar.bz2\n",
        "!tar xvjf 20030228_hard_ham.tar.bz2  \n",
        "!tar xvjf 20030228_spam.tar.bz2\n",
        "!tar xvjf 20050311_spam_2.tar.bz2\n",
        "```\n",
        "<br>\n",
        "\n",
        "The above is the same as writing\n",
        "```\n",
        "!tar xvjf {HAM_URL.split('/')[-1]}\n",
        "!tar xvjf {HAM_URL_2.split('/')[-1]}\n",
        "!tar xvjf {HARD_HAM_URL.split('/')[-1]}\n",
        "!tar xvjf {SPAM_URL.split('/')[-1]}\n",
        "!tar xvjf {SPAM_URL_2.split('/')[-1]}\n",
        "```\n",
        "<br>\n",
        "\n",
        "But now, the above Extracted Data Files are stored in folders in the Current Working Directory (CWD), thus we move these files to another directory\n",
        "```\n",
        "!mv easy_ham {DATASET_DIR}  \n",
        "!mv easy_ham_2 {DATASET_DIR}\n",
        "!mv hard_ham {DATASET_DIR}\n",
        "!mv spam {DATASET_DIR}\n",
        "!mv spam_2 {DATASET_DIR}\n",
        "```\n",
        "<br>\n",
        "\n",
        "Now for something even more amazing! The above two code chunks can be further compressed into just 5 lines of Command Line code.\n",
        "```\n",
        "!tar -C {DATASET_DIR} xvjf {HAM_URL.split('/')[-1]}\n",
        "!tar -C {DATASET_DIR} xvjf {HAM_URL_2.split('/')[-1]}\n",
        "!tar -C {DATASET_DIR} xvjf {HARD_HAM_URL.split('/')[-1]}\n",
        "!tar -C {DATASET_DIR} xvjf {SPAM_URL.split('/')[-1]}\n",
        "!tar -C {DATASET_DIR} xvjf {SPAM_URL_2.split('/')[-1]}\n",
        "```\n",
        "<br>\n",
        "\n",
        "My purpose of telling you all this is that in many cases you'll see software engineers use the **Command Line Interface** to do a lot of tasks instead of a **Graphical User Interface** which of course feels more intuitive (The classic old **CLI vs GUI debate**).\n",
        "\n",
        "As shown above, for general purpose use, of course GUIs dominate because they are much more intuitive (the Windows OS/ Mac OS UI is a GUI!) but for engineering problems, where we require efficiency and speed, knowledge of CLI absolutely demolishes GUI. This is one of the key takeaways from this section."
      ]
    },
    {
      "cell_type": "markdown",
      "metadata": {
        "id": "AgLAWZ-dXx8L"
      },
      "source": [
        "## 1.4. Creating the Dataset"
      ]
    },
    {
      "cell_type": "code",
      "execution_count": 5,
      "metadata": {
        "id": "CRXrA1gGXep4"
      },
      "outputs": [],
      "source": [
        "# Creating our dataset\n",
        "def load_files(path):\n",
        "    file_names = os.listdir(path)\n",
        "    emails_data = []\n",
        "\n",
        "    # Iterating through raw e-mails and converting them to string\n",
        "    for file_name in file_names:\n",
        "        with open(os.path.join(path, file_name), 'rb') as f:\n",
        "            raw_byte_data = f.read() \n",
        "            str_data = raw_byte_data.decode('utf-8', errors='ignore')\n",
        "            emails_data.append(str_data)\n",
        "\n",
        "    return emails_data\n",
        "\n",
        "easy_ham = load_files(f'/content/{DATASET_DIR}/easy_ham')\n",
        "easy_ham_2 = load_files(f'/content/{DATASET_DIR}/easy_ham_2')\n",
        "hard_ham = load_files(f'/content/{DATASET_DIR}/hard_ham')\n",
        "spam = load_files(f'/content/{DATASET_DIR}/spam')\n",
        "spam_2 = load_files(f'/content/{DATASET_DIR}/spam_2')"
      ]
    },
    {
      "cell_type": "code",
      "execution_count": 6,
      "metadata": {
        "id": "SUUICgPacEez"
      },
      "outputs": [],
      "source": [
        "import sklearn.utils\n",
        "import numpy as np\n",
        "\n",
        "X = easy_ham + easy_ham_2 + spam + spam_2 + hard_ham\n",
        "# y =  np.concatenate([np.zeros(len(easy_ham)), np.zeros(len(easy_ham_2)), \n",
        "#                     np.ones(len(spam)), np.ones(len(spam_2))]) \n",
        "y =  np.concatenate([np.zeros(len(easy_ham)), np.zeros(len(easy_ham_2)), \n",
        "                   np.ones(len(spam)), np.ones(len(spam_2)), np.zeros(len(hard_ham))])\n",
        "\n",
        "# Shuffling our dataset\n",
        "\n",
        "X, y = sklearn.utils.shuffle(X, y, random_state=0)"
      ]
    },
    {
      "cell_type": "code",
      "execution_count": 7,
      "metadata": {
        "colab": {
          "base_uri": "https://localhost:8080/"
        },
        "id": "AIzDE9BNgPxb",
        "outputId": "100e68f7-c1a8-4aab-cb6d-758e16024f23"
      },
      "outputs": [
        {
          "output_type": "stream",
          "name": "stdout",
          "text": [
            "2501 1401 251 501 1398\n"
          ]
        }
      ],
      "source": [
        "print(len(easy_ham),len(easy_ham_2),len(hard_ham),len(spam),len(spam_2))"
      ]
    },
    {
      "cell_type": "code",
      "execution_count": 8,
      "metadata": {
        "colab": {
          "base_uri": "https://localhost:8080/"
        },
        "id": "30Bgj10lgIRx",
        "outputId": "a6f44946-e42b-4e40-92fd-f628bcc736d0"
      },
      "outputs": [
        {
          "output_type": "stream",
          "name": "stdout",
          "text": [
            "6052 6052\n"
          ]
        }
      ],
      "source": [
        "print(len(X), len(y))"
      ]
    },
    {
      "cell_type": "markdown",
      "metadata": {
        "id": "c-DBAjmiQH3I"
      },
      "source": [
        "# **2. Data Pre-processing**\n"
      ]
    },
    {
      "cell_type": "markdown",
      "metadata": {
        "id": "NmRU38VCikKJ"
      },
      "source": [
        "##2.1. Removing the E-Mail Header\n",
        "For the purpose of this project, we are only going to deal with the body of the e-mails and not any other kind of meta-data. That is, we are not going to use any information about the sender, sender's location, subject of the e-mail, sending time, IP Address etc. Of course, including this information would help us in creating better heuritstic rules and more accurate models, but they would complicate the feature extraction process"
      ]
    },
    {
      "cell_type": "code",
      "execution_count": 9,
      "metadata": {
        "id": "W9i3eoBEig7k"
      },
      "outputs": [],
      "source": [
        "def removeHeader(X, y):\n",
        "    X_body = []\n",
        "    y_body = []\n",
        "\n",
        "    for i, email in enumerate(X):\n",
        "        # If at all some e-mails are corrupted, hence need to use try-except\n",
        "        try:\n",
        "            header_start = email.find('\\n\\n')\n",
        "            email = email[header_start:]\n",
        "            X_body.append(email)\n",
        "            y_body.append(y[i])\n",
        "        except:\n",
        "            print(f\"Excluded Mail No. {i}\")\n",
        "\n",
        "    return X_body, np.array(y_body)\n",
        "\n",
        "X, y = removeHeader(X, y)"
      ]
    },
    {
      "cell_type": "code",
      "execution_count": 10,
      "metadata": {
        "colab": {
          "base_uri": "https://localhost:8080/"
        },
        "id": "Hu4jqcN8nN6G",
        "outputId": "a05bc53c-6ae1-4ac9-b223-635dbde705bb"
      },
      "outputs": [
        {
          "output_type": "execute_result",
          "data": {
            "text/plain": [
              "(6052, 6052)"
            ]
          },
          "metadata": {},
          "execution_count": 10
        }
      ],
      "source": [
        "len(X), len(y)"
      ]
    },
    {
      "cell_type": "markdown",
      "metadata": {
        "id": "LUKRtyTTnS7l"
      },
      "source": [
        "##2.2. Pre-processing E-Mail Body\n",
        "Before starting on a machine learning task, it is usually insightful to take a look at examples from the dataset. The figure below shows a sample email that contains a URL, an email address (at the end), numbers, and dollar\n",
        "amounts.\n",
        "\n",
        "<img src=\"email.png\" width=\"700px\" />\n",
        "\n",
        "While many emails would contain similar types of entities (e.g., numbers, other URLs, or other email addresses), the specific entities (e.g., the specific URL or specific dollar amount) will be different in almost every\n",
        "email. Therefore, one method often employed in processing emails is to “normalize” these values, so that all URLs are treated the same, all numbers are treated the same, etc. For example, we could replace each URL in the\n",
        "email with the unique string “httpaddr” to indicate that a URL was present.\n",
        "\n",
        "This has the effect of letting the spam classifier make a classification decision based on whether any URL was present, rather than whether a specific URL was present. This typically improves the performance of a spam classifier, since spammers often randomize the URLs, and thus the odds of seeing any particular URL again in a new piece of spam is very small. \n",
        "\n",
        "In the function `processEmail` below, we want to implement the following email preprocessing and normalization steps:\n",
        "\n",
        "- **Lower-casing**: The entire email is converted into lower case, so that captialization is ignored (e.g., IndIcaTE is treated the same as Indicate).\n",
        "\n",
        "- **Stripping HTML**: All HTML tags are removed from the emails. Many emails often come with HTML formatting; we remove all the HTML tags, so that only the content remains.\n",
        "\n",
        "- **Normalizing URLs**: All URLs are replaced with the text “httpaddr”.\n",
        "\n",
        "- **Normalizing Email Addresses**:  All email addresses are replaced with the text “emailaddr”.\n",
        "\n",
        "- **Normalizing Numbers**: All numbers are replaced with the text “number”.\n",
        "\n",
        "- **Normalizing Dollars**: All dollar signs ($) are replaced with the text “dollar”.\n",
        "\n",
        "- **Word Stemming**: Words are reduced to their stemmed form. For example, “discount”, “discounts”, “discounted” and “discounting” are all replaced with “discount”. Sometimes, the Stemmer actually strips off additional characters from the end, so “include”, “includes”, “included”, and “including” are all replaced with “includ”.\n",
        "\n",
        "- **Removal of non-words**: Non-words and punctuation have been removed. All white spaces (tabs, newlines, spaces) have all been trimmed to a single space character.\n",
        "\n",
        "The result of these preprocessing steps is shown in the figure below. \n",
        "\n",
        "<img src=\"email_cleaned.png\" alt=\"email cleaned\" style=\"width: 600px;\"/>\n",
        "\n",
        "While preprocessing has left word fragments and non-words, this form turns out to be much easier to work with for performing feature extraction.\n",
        "\n",
        "**References**:\n",
        "1. Week 6 - Machine Learning System Design - Building a Spam Classifier <a href=\"https://www.coursera.org/learn/machine-learning\"> Machine Learning MOOC on Coursera by Andrew Ng</a>\n",
        "1. Programming Exercise 6 of <a href=\"https://www.coursera.org/learn/machine-learning\"> Machine Learning MOOC on Coursera by Andrew Ng</a>\n",
        "\n",
        "**Implementation Tip** : For many of the above mentioned tasks for data pre-processing, I (or rather Andrew Ng XD) have (has) used Regular Expressions (RegEx). While they can be really complicated to understand, they are relatively easy to learn and can be really powerful if used well. Additionally, many of the pre-processing steps we do here are fairly common and a really simple web search can give answers to most of these. But I would really recommend you to go through this **amazing short tutorial** about regular expressions.\n",
        "\n",
        "Link to the tutorial - https://regexone.com/"
      ]
    },
    {
      "cell_type": "code",
      "execution_count": 11,
      "metadata": {
        "id": "3faKKLtsQHjz"
      },
      "outputs": [],
      "source": [
        "from nltk.stem import PorterStemmer\n",
        "\n",
        "# Importing Regular Expressions (re) to handle the above mentioned pre-processing tasks\n",
        "# You can even choose to do it with Python's inbuilt String library \n",
        "import re\n",
        "import string\n",
        "\n",
        "def preprocessEmail(email_contents, verbose = False):\n",
        "    \"\"\"Preprocesses the body of an email and returns a list of indices \n",
        "    of the words contained in the email.    \n",
        "    \n",
        "    Parameters\n",
        "    ----------\n",
        "    email_contents : str\n",
        "        A string containing one email. \n",
        "    \n",
        "    verbose : bool\n",
        "        If True, print the resulting email after processing.\n",
        "    \n",
        "    Returns\n",
        "    -------\n",
        "    processed_email : list\n",
        "        A list of strings/words containing the contents of a processed email.\n",
        "    \"\"\"\n",
        "    # ========================== Preprocess Email ===========================\n",
        "    # Turns all the elements to lower case\n",
        "    email_contents = email_contents.lower()\n",
        "    \n",
        "    # Strip all HTML Tags (Regex)\n",
        "    # Looks for any expression that starts with < and ends with > and does not \n",
        "    # have any < or > in the tag and replace it with a space\n",
        "    email_contents =re.compile('<.*>').sub(' ', email_contents)\n",
        "\n",
        "    # Handle Numbers (Regex)\n",
        "    # Look for one or more characters between 0-9 and replace them with ' number '\n",
        "    email_contents = re.compile('[0-9]+').sub(' number ', email_contents)\n",
        "\n",
        "    # Handle URLS (Regex)\n",
        "    # Look for strings starting with http:// or https:// and replace the URL \n",
        "    # with ' httpaddr '\n",
        "    email_contents = re.compile('http://[^ ]*|https://[^ ]*').sub(' httpaddr ', email_contents)\n",
        "\n",
        "    # Handle Email Addresses (Regex)\n",
        "    # Look for strings with @ in the middle, not surrounded by any whitespace &\n",
        "    # replace it with ' emailaddr '\n",
        "    email_contents = re.compile('[^ ]*@[^ ]*').sub(' emailaddr ', email_contents)\n",
        "    \n",
        "    # Handle $ sign (Regex) and replace it with ' dollar '\n",
        "    email_contents = re.compile('\\$').sub(' dollar ', email_contents)\n",
        "    \n",
        "    # Get rid of any punctuation\n",
        "    email_contents = email_contents.translate(str.maketrans('', '', string.punctuation))\n",
        "\n",
        "    # Remove any empty word string\n",
        "    # email_contents = \"\"\"Write Code Here\"\"\"\n",
        "    email_contents = re.compile('[ ]+').sub(' ', email_contents)\n",
        "    email_contents = re.compile('^[ ]*').sub('', email_contents)\n",
        "    email_contents = re.compile('\\n[ ]+').sub('\\n', email_contents)\n",
        "    email_contents = email_contents.split()\n",
        "\n",
        "    \n",
        "    # Stem the email contents word by word\n",
        "    stemmer = PorterStemmer()\n",
        "    processed_email = []\n",
        "    for word in email_contents:\n",
        "        # Remove any remaining NON-alphanumeric characters in word and\n",
        "        # substitute it with \"\" (the null string)\n",
        "        word = re.compile('[^ |[a-z]|[0-9]]').sub('', word).strip()\n",
        "  \n",
        "        if len(word) < 1:\n",
        "            continue\n",
        "\n",
        "        \"\"\"code to stem the word and append it to processed_email list.\"\"\"\n",
        "        \n",
        "        word = stemmer.stem(word)\n",
        "        processed_email.append(word)\n",
        "\n",
        "    if verbose:\n",
        "        print('----------------')\n",
        "        print('Processed email:')\n",
        "        print('----------------')\n",
        "        print(' '.join(processed_email))\n",
        "    return processed_email"
      ]
    },
    {
      "cell_type": "code",
      "execution_count": 12,
      "metadata": {
        "id": "oDcAvb_6wL68"
      },
      "outputs": [],
      "source": [
        "X_preprocessed = []\n",
        "\"\"\"\n",
        "Takes all the mails from the dataset, processes them and appends\n",
        "them into an empty list X_preprocessed\n",
        "\"\"\"\n",
        "\n",
        "for x in X:\n",
        "    X_preprocessed.append(preprocessEmail(x))"
      ]
    },
    {
      "cell_type": "markdown",
      "metadata": {
        "id": "UzSYmwuvhBTR"
      },
      "source": [
        "\n",
        "## 2.3 Extracting Features from Emails\n"
      ]
    },
    {
      "cell_type": "markdown",
      "metadata": {
        "id": "yiFYB6BIw_OV"
      },
      "source": [
        "###2.3.1 Vocabulary Creation\n",
        "We haven't yet defined what our vocabulary is yet. Once we have pre-processed our emails, we select the **Top** $K$ highest frequency (highest occuring) words (which are stemmed) in our e-mail dataset to act as our vocabulary. That is we only consider these $K$ most frequently occuring words to describe our email contents / their feature vector. Here $K$ is a hyperparameter. A good starting point for $K$ can be around $1500$ to $2000$.\n",
        "\n",
        "**Very Important** : A lot of people make a mistake of NOT excluding **Stop Words** from their vocabulary. Stop Words are those words whose presence is gramatically important but NOT semantically. That is, these words do not add much to the context of a given document/ sentence. Eg. 'the', 'is', 'a', 'an', 'on', 'at', 'are' etc.\n",
        "\n",
        "There is no single universal list of stop words used by all natural language processing tools, nor any agreed upon rules for identifying stop words, and indeed not all tools even use such a list. But there is general consensus on a lot of words falling into the category of Stop Words. Many NLP libraries have a list of their own stop words.\n",
        "\n",
        "**Implementation Tip** : Instead of executing this creation of vocabulary separately, we can save our time and modify the previous code cell in such a way that we can directly/ indirectly get a vocabulary list or atleast a frequency value for each encountered stemmed word."
      ]
    },
    {
      "cell_type": "code",
      "execution_count": 13,
      "metadata": {
        "id": "heLTGsfn2LUY",
        "colab": {
          "base_uri": "https://localhost:8080/"
        },
        "outputId": "1bb04537-2410-413a-c55a-02c591366b0a"
      },
      "outputs": [
        {
          "output_type": "stream",
          "name": "stdout",
          "text": [
            "i\n",
            "179\n"
          ]
        },
        {
          "output_type": "stream",
          "name": "stderr",
          "text": [
            "[nltk_data] Downloading package stopwords to /root/nltk_data...\n",
            "[nltk_data]   Package stopwords is already up-to-date!\n"
          ]
        }
      ],
      "source": [
        "import nltk\n",
        "nltk.download('stopwords')\n",
        "from nltk.corpus import stopwords\n",
        "\n",
        "english_stopwords = stopwords.words('english')\n",
        "i = 0\n",
        "print(english_stopwords[i])\n",
        "print(len(english_stopwords))"
      ]
    },
    {
      "cell_type": "code",
      "execution_count": 14,
      "metadata": {
        "id": "Va8ZAR-qv_K6"
      },
      "outputs": [],
      "source": [
        "def topKFrequent(nums, k):\n",
        "    number_frequency = {}\n",
        "    frequency_list ={}\n",
        "    for i in nums:\n",
        "        if i not in number_frequency:\n",
        "          number_frequency[i] = 1\n",
        "        else:\n",
        "          number_frequency[i] += 1\n",
        "    for key,value in number_frequency.items():\n",
        "        if value not in frequency_list:\n",
        "          frequency_list[value] = [key]\n",
        "        else:\n",
        "          frequency_list[value].append(key)\n",
        "    result = []\n",
        "    for i in range(len(nums),0,-1):\n",
        "        if i in frequency_list:\n",
        "          result.extend(frequency_list[i])\n",
        "        if len(result) >=k:\n",
        "          break\n",
        "    return result\n",
        "\n",
        "\n",
        "def createVocabulary(X_preprocessed):\n",
        "    vocabulary_list = []\n",
        "    all_words = []\n",
        "    for email in X_preprocessed:\n",
        "        for word in email:\n",
        "            all_words.append(word)\n",
        "\n",
        "    vocabulary_list = topKFrequent(all_words, 2000)\n",
        "    return vocabulary_list\n",
        "\n",
        "vocabulary_list = createVocabulary(X_preprocessed)"
      ]
    },
    {
      "cell_type": "markdown",
      "metadata": {
        "id": "YPLrU4jyxF-F"
      },
      "source": [
        "###2.3.2. One Hot Encoding\n",
        "We will now implement a basic **One Hot Encoding** feature extraction that converts each email into a vector in $\\mathbb{R}^n$. For this exercise, you will be using $\\mbox{n = number of words in vocabulary list}$. Specifically, the feature $x_i \\in \\{0, 1\\}$ for an email corresponds to whether the $i^{th}$ word in the dictionary occurs in the email. That is, $x_i = 1$ if the $i^{th}$ word is in the email and $x_i = 0$ if the $i^{th}$ word is not present in the email.\n",
        "\n",
        "Thus, for a typical email, this feature would look like:\n",
        "\n",
        "$$ x = \\begin{bmatrix} \n",
        "0 & \\dots & 1 & 0 & \\dots & 1 & 0 & \\dots & 0 \n",
        "\\end{bmatrix}^T \\in \\mathbb{R}^n\n",
        "$$\n",
        "\n",
        "You should now complete the code in the function `emailFeatures` to generate a feature vector for an email, given the `email_content`."
      ]
    },
    {
      "cell_type": "code",
      "execution_count": 15,
      "metadata": {
        "id": "f_AfZfb7v_Xj"
      },
      "outputs": [],
      "source": [
        "def emailFeatures(email_content, vocabulary_list):\n",
        "    \"\"\"\n",
        "    Takes in a email_content vector and produces a feature vector from the word \n",
        "    indices. \n",
        "    \n",
        "    Parameters\n",
        "    ----------\n",
        "    email_content : list\n",
        "        A list of stemmed words present in the processed e-mail.\n",
        "    \n",
        "    Returns\n",
        "    x : list \n",
        "        The computed feature vector.\n",
        "    \n",
        "    x[i] = 1 when word i\n",
        "    is present in the email. Concretely, if the word 'the' (say,\n",
        "    index 60) appears in the email, then x[60] = 1. The feature\n",
        "    vector should look like:\n",
        "        x = [ 0 0 0 0 1 0 0 0 ... 0 0 0 0 1 ... 0 0 0 1 0 ..]\n",
        "    \"\"\"\n",
        "    # Total number of words in the dictionary\n",
        "    n = len(vocabulary_list)\n",
        "    \n",
        "    x = np.zeros(n)\n",
        "\n",
        "    for index, word in enumerate(vocabulary_list):\n",
        "        if word in email_content:\n",
        "            x[index] = 1\n",
        "    \n",
        "    return x"
      ]
    },
    {
      "cell_type": "code",
      "execution_count": 16,
      "metadata": {
        "id": "EkPe_3N65nkC"
      },
      "outputs": [],
      "source": [
        "X_processed = np.zeros((len(X), len(vocabulary_list)))\n",
        "\"\"\"Write code to create X_processed - a NumPy array of size m*n where 'm' is the \n",
        "number of e-mails in our dataset and 'n' is the size of our vocabulary\n",
        "from X_preprocessed\"\"\"\n",
        "for index, email in enumerate(X_preprocessed):\n",
        "    X_processed[index] = emailFeatures(email, vocabulary_list)\n"
      ]
    },
    {
      "cell_type": "code",
      "source": [
        "print(X_processed.shape)\n",
        "print(len(y))"
      ],
      "metadata": {
        "colab": {
          "base_uri": "https://localhost:8080/"
        },
        "id": "eqSICu3EjloS",
        "outputId": "1e2b96a3-5689-4f94-ac84-9dd8a4b217d5"
      },
      "execution_count": 17,
      "outputs": [
        {
          "output_type": "stream",
          "name": "stdout",
          "text": [
            "(6052, 2000)\n",
            "6052\n"
          ]
        }
      ]
    },
    {
      "cell_type": "markdown",
      "metadata": {
        "id": "ou9li8H_U-k0"
      },
      "source": [
        "### 2.3.3. Other Feature Extraction Strategies\n",
        "The above One-Hot Encoding Feature Extraction strategy is nice, but is very simple and doesn't work well for other complicated datasets/ NLP tasks. For eg., it does not at all take into account the frequency of each vocabulary word in the mail or their relative positioning, or even their global occurrence in the entire e-mail corpus (in the train set.)\n",
        "\n",
        "\n",
        "Thus there have been many other proposals to use different kinds of word embeddings. Some of them are:\n",
        "1. Token Frequency (TF)\n",
        "1. Inverse Document Frequency (IDF)\n",
        "1. Word Embeddings (Bag of Words, GloVe, word2vec etc.)\n",
        "\n",
        "You could try these embeddings as an optional part of the project to see how the accuracy/ F1 Score of the ML model changes! Most of them have ready made implementations in the form of libraries\n",
        "\n",
        "**References**:\n",
        "1. https://towardsdatascience.com/word-embedding-techniques-word2vec-and-tf-idf-explained-c5d02e34d08\n",
        "1. https://towardsdatascience.com/how-to-turn-text-into-features-478b57632e99\n",
        "1. https://scikit-learn.org/stable/modules/generated/sklearn.feature_extraction.text.TfidfVectorizer.html"
      ]
    },
    {
      "cell_type": "code",
      "source": [
        "# Room for other Embedding Strategies"
      ],
      "metadata": {
        "id": "nANIl50OkA9W"
      },
      "execution_count": 18,
      "outputs": []
    },
    {
      "cell_type": "markdown",
      "metadata": {
        "id": "-T8mfW9NQB4-"
      },
      "source": [
        "# **3. Exploratory Data Analysis & t-SNE**"
      ]
    },
    {
      "cell_type": "markdown",
      "metadata": {
        "id": "fUL0wK_4BDBS"
      },
      "source": [
        "## 3.1. Data Analysis\n",
        "In general, the main purpose of any kind of data analysis is to gain insights about the data. Analyzing the data helps us identify the trends and structure in the data.\n",
        "\n",
        "In the case where we intend to use Machine Learning after our Data Analysis pipeline, the goal of our Data Analysis pipeline is not just figuring out the trends in the data, but also checking if the data satisfies the assumptions of our machine learning model.\n",
        "\n",
        "All machine learning models make a set of assumptions about the data (what they imagine the data would be like). These assumptions are called the [Inductive Bias](https://en.wikipedia.org/wiki/Inductive_bias) of a machine learning algorithm. If our data satisfies the inductive bias of our machine learning algorithm, even if our algorithm is simple (eg. Logistic Regression, k Nearest Neighbours etc.), it will give us much better results with lesser data even on comparison with complex models such as Neural Networks.\n",
        "\n",
        "A Data Science Pipeline can be split into 4 stages:\n",
        "1. **Exploratory Data Analysis** - Taking stock of our data, taking care of null values, understanding what all categories we have (eg. spam and non-spam), number of examples of each category, basic distribution of each feature, central-tendancy statistics of features such as mean, median, mode, variance etc.\n",
        "\n",
        "1. **Descriptive Data Analysis** - The part where we do a much more sophisticated analysis of the data - enough to draw good and insightful conclusions. Hypothesis Testing can also be done as a part of Descriptive Data Analysis, to test conclusions drawn from the data. \n",
        "\n",
        "1. **Predictive Analysis** - The Machine Learning part of the pipeline.\n",
        "\n",
        "1. **Prescriptive Analysis** - The part of the pipeline where we make suggestions to the client about actions to be taken in order to fulfill a certain objective by analyzing the data.\n",
        "\n",
        "Here are a few links for ideas regarding Descriptive Analysis in NLP tasks:\n",
        "1. https://neptune.ai/blog/exploratory-data-analysis-natural-language-processing-tools\n",
        "1. https://www.kdnuggets.com/2019/05/complete-exploratory-data-analysis-visualization-text-data.html\n"
      ]
    },
    {
      "cell_type": "code",
      "execution_count": 19,
      "metadata": {
        "id": "3_1PU2ZnP9Du",
        "colab": {
          "base_uri": "https://localhost:8080/",
          "height": 513
        },
        "outputId": "470b6d14-0ae3-4dc1-ca43-7df641257bf8"
      },
      "outputs": [
        {
          "output_type": "display_data",
          "data": {
            "text/plain": [
              "<Figure size 1080x576 with 3 Axes>"
            ],
            "image/png": "[encoded data removed]"
          },
          "metadata": {
            "needs_background": "light"
          }
        }
      ],
      "source": [
        "\"\"\"Code to perform the EDA\"\"\"\n",
        "\n",
        "import matplotlib.pyplot as plt\n",
        "import numpy as np\n",
        "\n",
        "data_spam = {}\n",
        "data_ham = {}\n",
        "num_spam = 0\n",
        "num_ham = 0\n",
        "for index, word in enumerate(vocabulary_list):\n",
        "    data_spam[index] = 0\n",
        "    data_ham[index] = 0\n",
        "\n",
        "for i, email in enumerate(X_processed):\n",
        "    if y[i] == 1:\n",
        "        num_spam += 1\n",
        "        for index, word in enumerate(email):\n",
        "            data_spam[index] += word\n",
        "    else:\n",
        "        num_ham += 1\n",
        "        for index, word in enumerate(email):\n",
        "            data_ham[index] += word\n",
        "\n",
        "\n",
        "words_spam = np.array(list(data_spam.keys()))\n",
        "values_spam = np.array(list(data_spam.values()))/num_spam\n",
        "words_ham = np.array(list(data_ham.keys()))\n",
        "values_ham = np.array(list(data_ham.values()))/num_ham\n",
        "\n",
        "fig = plt.figure(figsize = (15, 8))\n",
        " \n",
        "# creating the bar plot\n",
        "plt.subplot(2, 2, 1) # row 1, col 2 index 1\n",
        "plt.bar(words_spam, values_spam, color ='maroon',\n",
        "        width = 0.4)\n",
        "plt.title(\"Spam Emails\")\n",
        "plt.xlabel('Words')\n",
        "plt.ylabel('Frequency')\n",
        "\n",
        "plt.subplot(2, 2, 2) # index 2\n",
        "plt.bar(words_ham, values_ham, color ='blue',\n",
        "        width = 0.4)\n",
        "plt.title(\"Ham Emails\")\n",
        "plt.xlabel('Words')\n",
        "plt.ylabel('Frequency')\n",
        "\n",
        "plt.subplot(2, 2, 3) # index 3\n",
        "plt.bar(words_ham, np.abs(values_spam - values_ham), color ='green',\n",
        "        width = 0.4)\n",
        "plt.title(\"Difference\")\n",
        "plt.xlabel('Words')\n",
        "plt.ylabel('Frequency')\n",
        "\n",
        "plt.show()"
      ]
    },
    {
      "cell_type": "markdown",
      "metadata": {
        "id": "glqG2_cb7UDW"
      },
      "source": [
        "##3.2. t-SNE Visualization\n",
        "t-distributed Stochastic Neighbor Embedding (t-SNE) is a statistical method for visualizing high-dimensional data by giving each datapoint a location in a **two or three-dimensional map**. It is based on Stochastic Neighbor Embedding originally developed by Sam Roweis and Geoffrey Hinton, where Laurens van der Maaten proposed the t-distributed variant. It is a **nonlinear** dimensionality reduction technique well-suited for embedding high-dimensional data **for visualization** in a low-dimensional space of two or three dimensions. Specifically, it models each high-dimensional object by a two- or three-dimensional point in such a way that similar objects are modeled by nearby points and dissimilar objects are modeled by distant points with high probability.\n",
        "\n",
        "Although t-SNE is a tool used in Descriptive Data Analysis, I put it up in a separate section since it is a Machine Learning algorithm and also, there are many similar algorithms which are used to create such visualizations. Eg. Maximum Variance Unfolding (MVU), Autoencoders, Locally-Linear Embedding (LLE) etc. Though a problem with many such algorithms such as MVU, LLE are that they don't work well on real life datasets (Autoencoders work really well though.)\n",
        "\n",
        "But a lot of people just consider t-SNE as a magic blackbox and interpret it in a grossly incorrect manner. [This website](https://distill.pub/2016/misread-tsne/) explains the mis-interpretations of t-SNE very well and how to correctly understand what the visualization means.\n",
        "\n",
        "**References** :\n",
        "1. Stochastic Neighbour Embedding Original Paper (SNE) - http://www.cs.toronto.edu/~fritz/absps/sne.pdf\n",
        "1. t-SNE Original Paper - https://www.jmlr.org/papers/volume9/vandermaaten08a/vandermaaten08a.pdf\n",
        "1. PCA vs t-SNE - https://stats.stackexchange.com/questions/238538/are-there-cases-where-pca-is-more-suitable-than-t-sne\n",
        "1. Lec 15: t-SNE by Prof Ali Ghodsi at UWaterloo - https://youtu.be/4GBgqmq0XAY?t=949"
      ]
    },
    {
      "cell_type": "code",
      "execution_count": 20,
      "metadata": {
        "id": "MqySisKT7TxA",
        "colab": {
          "base_uri": "https://localhost:8080/"
        },
        "outputId": "02e3de0a-86ea-47d9-af56-2c1ac37ad80f"
      },
      "outputs": [
        {
          "output_type": "stream",
          "name": "stderr",
          "text": [
            "/usr/local/lib/python3.8/dist-packages/sklearn/manifold/_t_sne.py:780: FutureWarning: The default initialization in TSNE will change from 'random' to 'pca' in 1.2.\n",
            "  warnings.warn(\n",
            "/usr/local/lib/python3.8/dist-packages/sklearn/manifold/_t_sne.py:790: FutureWarning: The default learning rate in TSNE will change from 200.0 to 'auto' in 1.2.\n",
            "  warnings.warn(\n"
          ]
        },
        {
          "output_type": "execute_result",
          "data": {
            "text/plain": [
              "(6052, 2)"
            ]
          },
          "metadata": {},
          "execution_count": 20
        }
      ],
      "source": [
        "\"\"\"We'll be using sklearn's implementation of t-SNE\"\"\"\n",
        "from sklearn.manifold import TSNE\n",
        "n_components = 2\n",
        "tsne = TSNE(n_components)\n",
        "tsne_result = tsne.fit_transform(X_processed)\n",
        "tsne_result.shape"
      ]
    },
    {
      "cell_type": "code",
      "source": [
        "plt.scatter(tsne_result[y == 1,0],tsne_result[y == 1,1],color=\"blue\")\n",
        "plt.scatter(tsne_result[y == 0,0],tsne_result[y == 0,1],color=\"red\")\n",
        "plt.show()"
      ],
      "metadata": {
        "colab": {
          "base_uri": "https://localhost:8080/",
          "height": 265
        },
        "id": "Byx8X36ygCf2",
        "outputId": "e504df97-e22c-4746-8c4b-b0eefe3a9f30"
      },
      "execution_count": 21,
      "outputs": [
        {
          "output_type": "display_data",
          "data": {
            "text/plain": [
              "<Figure size 432x288 with 1 Axes>"
            ],
            "image/png": "[encoded data removed]"
          },
          "metadata": {
            "needs_background": "light"
          }
        }
      ]
    },
    {
      "cell_type": "markdown",
      "metadata": {
        "id": "sZL3XD99QPjL"
      },
      "source": [
        "# **4. Machine Learning & Hyperparameter Tuning**:\n",
        "We are going to train 4 Machine Learning classifiers and tune their hyperparameters to better fit their dataset. We are going to use the sklearn library to implement the algorithms.\n",
        "\n",
        "ML Algorithms : \n",
        "1. Logistic Regression\n",
        "1. Support Vector Machines\n",
        "1. Neural Network (Multi-Layer Perceptron)\n",
        "1. Random Forests Classifier\n",
        "\n",
        "Hyperparameters are those variables which are NOT learnt by the model during the training procedure. They are constants during training and define the 'architecture' of the model. Eg. Learning Rate, Number of Iterations in Gradient Descent, Kernel used in SVMs, Max Depth of Tree in Decision Trees, value of K in K-Nearest Neighbours etc. Thus it is essential to use the best hyperparameters to better suit our dataset.\n",
        "\n",
        "But of course, even before we begin implementing models, we would need to randomly divide our dataset into training, validation (for hyperparameter tuning) and test set.\n",
        "\n",
        "**Tutorials for Sklearn**:\n",
        "1. https://towardsdatascience.com/a-beginners-guide-to-scikit-learn-14b7e51d71a4\n",
        "1. https://machinelearningmastery.com/hyperparameter-optimization-with-random-search-and-grid-search/\n",
        "1. K-Fold Cross Validation - https://youtu.be/rjbkWSTjHzM?t=3848\n",
        "\n",
        "(We'll be using Stratified K-Fold Cross Validation for Hyperparameter Tuning instead of simple Cross Validation. Will use Sklearn library implementation)\n",
        "\n",
        "**References (Hyperparameter Tuning & ML Practice)**:\n",
        "1.  Week 6 - Evaluating a Learning Algorithm. [Machine Learning on Coursera by Andrew Ng ](https://www.coursera.org/learn/machine-learning)\n",
        "1. Week 6 - Handling Skewed Data. [Machine Learning on Coursera by Andrew Ng ](https://www.coursera.org/learn/machine-learning)\n",
        "1. Sections 3.2.1 & 3.2.2 https://scikit-learn.org/stable/modules/grid_search.html\n",
        "\n"
      ]
    },
    {
      "cell_type": "code",
      "execution_count": 22,
      "metadata": {
        "id": "y51xSCsVQPN9",
        "outputId": "3f8b5721-0ac9-45e4-f89d-c498af3a624b",
        "colab": {
          "base_uri": "https://localhost:8080/"
        }
      },
      "outputs": [
        {
          "output_type": "execute_result",
          "data": {
            "text/plain": [
              "SVC()"
            ]
          },
          "metadata": {},
          "execution_count": 22
        }
      ],
      "source": [
        "\"\"\"Code to implement hyperparameter tuning and fitting ML models\"\"\"\n",
        "from sklearn import svm\n",
        "\n",
        "clf = svm.SVC()\n",
        "clf.fit(X_processed, y)\n"
      ]
    },
    {
      "cell_type": "code",
      "source": [
        "pred= clf.predict(X_processed)\n",
        "correct = pred[pred == y].shape[0]\n",
        "total = pred.shape[0]\n",
        "\n",
        "print(\"Accuracy is: \" + str(round(100*correct/total,2)) + \"%\")"
      ],
      "metadata": {
        "colab": {
          "base_uri": "https://localhost:8080/"
        },
        "id": "n7_y3Phbio5V",
        "outputId": "71309f2c-8cbe-470c-9d57-0d2207f90f14"
      },
      "execution_count": 23,
      "outputs": [
        {
          "output_type": "stream",
          "name": "stdout",
          "text": [
            "Accuracy is: 99.52%\n"
          ]
        }
      ]
    },
    {
      "cell_type": "code",
      "source": [
        "email = easy_ham[0]\n",
        "print(email)\n",
        "\n",
        "try:\n",
        "    header_start = email.find('\\n\\n')\n",
        "    email = email[header_start:]\n",
        "except:\n",
        "    print(f\"Excluded Mail No. {i}\")\n",
        "\n",
        "preprocessed_email = preprocessEmail(email)\n",
        "email_contents = emailFeatures(preprocessed_email, vocabulary_list)\n",
        "p = clf.predict([email_contents])\n",
        "print()\n",
        "if p == 1:\n",
        "    print(\"Spam Email!\")\n",
        "else:\n",
        "    print(\"Ham Email!\")"
      ],
      "metadata": {
        "colab": {
          "base_uri": "https://localhost:8080/"
        },
        "id": "0lilU8oMmPeT",
        "outputId": "c860e215-e32e-47b0-db18-0d15bc93a215"
      },
      "execution_count": 29,
      "outputs": [
        {
          "output_type": "stream",
          "name": "stdout",
          "text": [
            "From rssfeeds@spamassassin.taint.org  Tue Oct  8 10:56:15 2002\n",
            "Return-Path: <rssfeeds@spamassassin.taint.org>\n",
            "Delivered-To: zzzz@localhost.spamassassin.taint.org\n",
            "Received: from localhost (jalapeno [127.0.0.1])\n",
            "\tby spamassassin.taint.org (Postfix) with ESMTP id 1F65B16F17\n",
            "\tfor <zzzz@localhost>; Tue,  8 Oct 2002 10:56:15 +0100 (IST)\n",
            "Received: from jalapeno [127.0.0.1]\n",
            "\tby localhost with IMAP (fetchmail-5.9.0)\n",
            "\tfor zzzz@localhost (single-drop); Tue, 08 Oct 2002 10:56:15 +0100 (IST)\n",
            "Received: from dogma.slashnull.org (localhost [127.0.0.1]) by\n",
            "    dogma.slashnull.org (8.11.6/8.11.6) with ESMTP id g9881MK06181 for\n",
            "    <zzzz@spamassassin.taint.org>; Tue, 8 Oct 2002 09:01:22 +0100\n",
            "Message-Id: <200210080801.g9881MK06181@dogma.slashnull.org>\n",
            "To: zzzz@spamassassin.taint.org\n",
            "From: newscientist <rssfeeds@spamassassin.taint.org>\n",
            "Subject: Human handshake opens data stream\n",
            "Date: Tue, 08 Oct 2002 08:01:22 -0000\n",
            "Content-Type: text/plain; encoding=utf-8\n",
            "\n",
            "URL: http://www.newsisfree.com/click/-1,8639021,1440/\n",
            "Date: Not supplied\n",
            "\n",
            "A new Japanese system allows palmtop computers to swap large amounts of data \n",
            "when their owners shake hands\n",
            "\n",
            "\n",
            "\n",
            "\n",
            "Ham Email!\n"
          ]
        }
      ]
    },
    {
      "cell_type": "code",
      "source": [
        "email = spam[0]\n",
        "print(email)\n",
        "\n",
        "try:\n",
        "    header_start = email.find('\\n\\n')\n",
        "    email = email[header_start:]\n",
        "except:\n",
        "    print(f\"Excluded Mail No. {i}\")\n",
        "\n",
        "preprocessed_email = preprocessEmail(email)\n",
        "email_contents = emailFeatures(preprocessed_email, vocabulary_list)\n",
        "p = clf.predict([email_contents])\n",
        "print()\n",
        "if p == 1:\n",
        "    print(\"Spam Email!\")\n",
        "else:\n",
        "    print(\"Ham Email!\")"
      ],
      "metadata": {
        "colab": {
          "base_uri": "https://localhost:8080/"
        },
        "id": "UVwz-SqWoStn",
        "outputId": "5fb53fc2-530b-474e-b17d-eaa83a7186c8"
      },
      "execution_count": 30,
      "outputs": [
        {
          "output_type": "stream",
          "name": "stdout",
          "text": [
            "From ilug-admin@linux.ie  Wed Sep 11 13:57:56 2002\n",
            "Return-Path: <ilug-admin@linux.ie>\n",
            "Delivered-To: zzzz@localhost.spamassassin.taint.org\n",
            "Received: from localhost (jalapeno [127.0.0.1])\n",
            "\tby zzzzason.org (Postfix) with ESMTP id E45ED16F03\n",
            "\tfor <zzzz@localhost>; Wed, 11 Sep 2002 13:57:54 +0100 (IST)\n",
            "Received: from jalapeno [127.0.0.1]\n",
            "\tby localhost with IMAP (fetchmail-5.9.0)\n",
            "\tfor zzzz@localhost (single-drop); Wed, 11 Sep 2002 13:57:54 +0100 (IST)\n",
            "Received: from lugh.tuatha.org (root@lugh.tuatha.org [194.125.145.45]) by\n",
            "    dogma.slashnull.org (8.11.6/8.11.6) with ESMTP id g8BBxcC13522 for\n",
            "    <zzzz-ilug@jmason.org>; Wed, 11 Sep 2002 12:59:38 +0100\n",
            "Received: from lugh (root@localhost [127.0.0.1]) by lugh.tuatha.org\n",
            "    (8.9.3/8.9.3) with ESMTP id MAA03587; Wed, 11 Sep 2002 12:50:12 +0100\n",
            "Received: from server.pacbell.net\n",
            "    (adsl-63-205-117-90.dsl.lsan03.pacbell.net [63.205.117.90]) by\n",
            "    lugh.tuatha.org (8.9.3/8.9.3) with ESMTP id MAA03463 for <ilug@linux.ie>;\n",
            "    Wed, 11 Sep 2002 12:49:35 +0100\n",
            "Message-Id: <200209111149.MAA03463@lugh.tuatha.org>\n",
            "X-Authentication-Warning: lugh.tuatha.org: Host adsl-63-205-117-90.dsl.lsan03.pacbell.net\n",
            "    [63.205.117.90] claimed to be server.pacbell.net\n",
            "Received: from smtp0482.mail.yahoo.com (CUST-216-152-232-85.nas.vdot.net\n",
            "    [216.152.232.85]) by server.pacbell.net with SMTP (Microsoft Exchange\n",
            "    Internet Mail Service Version 5.5.2653.13) id SGH33KQZ; Wed,\n",
            "    11 Sep 2002 04:11:08 -0700\n",
            "Date: Wed, 11 Sep 2002 06:12:39 -0500\n",
            "From: \"Wesley Gee\" <lhjr55@yahoo.com>\n",
            "X-Priority: 3\n",
            "To: ilug@linux.ie\n",
            "MIME-Version: 1.0\n",
            "Content-Type: text/plain; charset=us-ascii\n",
            "Content-Transfer-Encoding: 7bit\n",
            "Subject: [ILUG] Do NOT Drop your Life Insurance\n",
            "Sender: ilug-admin@linux.ie\n",
            "Errors-To: ilug-admin@linux.ie\n",
            "X-Mailman-Version: 1.1\n",
            "Precedence: bulk\n",
            "List-Id: Irish Linux Users' Group <ilug.linux.ie>\n",
            "X-Beenthere: ilug@linux.ie\n",
            "\n",
            "Dear ilug@linux.ie \n",
            "\n",
            "Life Partners are life insurance appraisers that appraise all types of life insurance policies, allowing people to access their life insurance cash now rather than later. We help individuals unlock cash from unutilized assets. \n",
            "Individuals usually age 65 or older who find that their health, financial and/or estate planning needs have changed are typical candidates. We have had some candidates advised by financial planners to drop their life insurance policies so they could invest their money in a vehicle that will make them a return now. DO NOT drop your policy as it may be worth CASH to you NOW.\n",
            "\n",
            "Why do people sell their policies? \n",
            "The reasons individuals make the decision to sell their life insurance policies are as varied as the people themselves. Some reasons may be to:\n",
            "\n",
            "Pay off debts \n",
            "Fund long term care insurance cost \n",
            "Eliminate costly premiums \n",
            "Take advantage of other financial opportunities \n",
            "Make charitable contributions \n",
            "Help family members \n",
            " \n",
            "  \n",
            "Life Partners Living Solutions \n",
            "  \n",
            "Traditionally, life insurance provides benefits only after death. With Life Partners, it can provide cash benefits for LIFE! \n",
            "  \n",
            "Life Partners Objectives \n",
            "Provide market appraisal for life insurance policy owners \n",
            "Provide bids for qualified policies \n",
            "Provide lump sum cash payments to qualified owners \n",
            "Eliminate costly premium payments  \n",
            "\n",
            "Contact us now for a FREE appraisal of your life insurance policy.  REMEMBER THIS IS A FREE SERVICE AND THERE IS NO COST TO YOU !!\n",
            "\n",
            "1-866-686-LIFE \n",
            "1-866-686-5433  or  e-mail us at llhjr55@yahoo.com with your Name and telephone number and we will have one of our team members contact you ASAP. \n",
            "\n",
            "If you would like to be removed please send 'remove' to llhjr55@yahoo.com\n",
            "\n",
            "\n",
            "\n",
            "\n",
            "-- \n",
            "Irish Linux Users' Group: ilug@linux.ie\n",
            "http://www.linux.ie/mailman/listinfo/ilug for (un)subscription information.\n",
            "List maintainer: listmaster@linux.ie\n",
            "\n",
            "\n",
            "\n",
            "\n",
            "Spam Email!\n"
          ]
        }
      ]
    }
  ],
  "metadata": {
    "colab": {
      "provenance": []
    },
    "kernelspec": {
      "display_name": "Python 3",
      "language": "python",
      "name": "python3"
    },
    "language_info": {
      "codemirror_mode": {
        "name": "ipython",
        "version": 3
      },
      "file_extension": ".py",
      "mimetype": "text/x-python",
      "name": "python",
      "nbconvert_exporter": "python",
      "pygments_lexer": "ipython3",
      "version": "3.8.8"
    }
  },
  "nbformat": 4,
  "nbformat_minor": 0
}